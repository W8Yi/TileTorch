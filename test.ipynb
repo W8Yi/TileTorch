{
 "cells": [
  {
   "cell_type": "code",
   "execution_count": 1,
   "id": "99cbaa2b",
   "metadata": {},
   "outputs": [
    {
     "name": "stdout",
     "output_type": "stream",
     "text": [
      "Created src/tiletorch/__init__.py\n",
      "Created src/tiletorch/cli.py\n",
      "Created src/tiletorch/tiling.py\n",
      "Created src/tiletorch/dataset.py\n",
      "Created src/tiletorch/utils.py\n",
      "Created src/tiletorch/training.py\n",
      "Created tests/__init__.py\n",
      "Created tests/test_tiling.py\n",
      "Created tests/test_dataset.py\n",
      "Created examples/tiling_example.ipynb\n",
      "Created .gitignore\n",
      "Created LICENSE\n",
      "TileTorch project scaffold created ✅\n"
     ]
    }
   ],
   "source": [
    "import os\n",
    "from pathlib import Path\n",
    "\n",
    "# Define project structure\n",
    "structure = {\n",
    "    \"src/tiletorch\": [\n",
    "        \"__init__.py\",\n",
    "        \"cli.py\",\n",
    "        \"tiling.py\",\n",
    "        \"dataset.py\",\n",
    "        \"utils.py\",\n",
    "        \"training.py\",\n",
    "    ],\n",
    "    \"tests\": [\n",
    "        \"__init__.py\",\n",
    "        \"test_tiling.py\",\n",
    "        \"test_dataset.py\",\n",
    "    ],\n",
    "    \"examples\": [\n",
    "        \"tiling_example.ipynb\",\n",
    "    ],\n",
    "}\n",
    "\n",
    "# Create folders and files\n",
    "for folder, files in structure.items():\n",
    "    Path(folder).mkdir(parents=True, exist_ok=True)\n",
    "    for f in files:\n",
    "        file_path = Path(folder) / f\n",
    "        if not file_path.exists():\n",
    "            file_path.write_text(\"# \" + f + \"\\n\")\n",
    "            print(f\"Created {file_path}\")\n",
    "\n",
    "# Top-level files\n",
    "top_files = [\n",
    "    \"README.md\",\n",
    "    \".gitignore\",\n",
    "    \"pyproject.toml\",\n",
    "    \"LICENSE\",\n",
    "]\n",
    "for f in top_files:\n",
    "    file_path = Path(f)\n",
    "    if not file_path.exists():\n",
    "        file_path.write_text(\"# \" + f + \"\\n\")\n",
    "        print(f\"Created {file_path}\")\n",
    "\n",
    "print(\"TileTorch project scaffold created ✅\")"
   ]
  }
 ],
 "metadata": {
  "kernelspec": {
   "display_name": "ml",
   "language": "python",
   "name": "python3"
  },
  "language_info": {
   "codemirror_mode": {
    "name": "ipython",
    "version": 3
   },
   "file_extension": ".py",
   "mimetype": "text/x-python",
   "name": "python",
   "nbconvert_exporter": "python",
   "pygments_lexer": "ipython3",
   "version": "3.12.3"
  }
 },
 "nbformat": 4,
 "nbformat_minor": 5
}
