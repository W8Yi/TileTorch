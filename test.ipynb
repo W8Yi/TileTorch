{
 "cells": [
  {
   "cell_type": "code",
   "execution_count": 5,
   "id": "99cbaa2b",
   "metadata": {},
   "outputs": [
    {
     "name": "stdout",
     "output_type": "stream",
     "text": [
      "Slide metadata: {'slide_path': './examples/TCGA-HC-A6HY-01Z-00-DX1.9753A5EC-6068-4502-ACBB-4C6F1EA77AF9.svs', 'levels': 3, 'level_dimensions': [(19184, 18822), (4796, 4705), (2398, 2352)]}\n"
     ]
    },
    {
     "name": "stderr",
     "output_type": "stream",
     "text": [
      "Preview TCGA-HC-A6HY-01Z-00-DX1.9753A5EC-6068-4502-ACBB-4C6F1EA77AF9 (L0): 100%|██████████| 5402/5402 [00:16<00:00, 333.61it/s]\n"
     ]
    },
    {
     "name": "stdout",
     "output_type": "stream",
     "text": [
      "Preview stats: {'preview_path': 'out_demo/preview.png', 'total_tiles': 5402, 'kept_tiles': 1298, 'kept_ratio': 0.24028137726767865}\n"
     ]
    },
    {
     "name": "stderr",
     "output_type": "stream",
     "text": [
      "Tiling TCGA-HC-A6HY-01Z-00-DX1.9753A5EC-6068-4502-ACBB-4C6F1EA77AF9 (L0): 100%|██████████| 5402/5402 [00:16<00:00, 318.62it/s]\n"
     ]
    },
    {
     "name": "stdout",
     "output_type": "stream",
     "text": [
      "Extracted 1298 tiles\n",
      "                                            slide_id  \\\n",
      "0  TCGA-HC-A6HY-01Z-00-DX1.9753A5EC-6068-4502-ACB...   \n",
      "1  TCGA-HC-A6HY-01Z-00-DX1.9753A5EC-6068-4502-ACB...   \n",
      "2  TCGA-HC-A6HY-01Z-00-DX1.9753A5EC-6068-4502-ACB...   \n",
      "3  TCGA-HC-A6HY-01Z-00-DX1.9753A5EC-6068-4502-ACB...   \n",
      "4  TCGA-HC-A6HY-01Z-00-DX1.9753A5EC-6068-4502-ACB...   \n",
      "\n",
      "                                           tile_path     x      y  level  \\\n",
      "0  out_demo/tiles/TCGA-HC-A6HY-01Z-00-DX1.9753A5E...  2048   9984      0   \n",
      "1  out_demo/tiles/TCGA-HC-A6HY-01Z-00-DX1.9753A5E...  2048  10240      0   \n",
      "2  out_demo/tiles/TCGA-HC-A6HY-01Z-00-DX1.9753A5E...  2048  10496      0   \n",
      "3  out_demo/tiles/TCGA-HC-A6HY-01Z-00-DX1.9753A5E...  2048  10752      0   \n",
      "4  out_demo/tiles/TCGA-HC-A6HY-01Z-00-DX1.9753A5E...  2048  11008      0   \n",
      "\n",
      "   tile_size  tissue_frac   entropy  \n",
      "0        256     0.469238  5.982952  \n",
      "1        256     0.501953  6.114062  \n",
      "2        256     0.446777  5.713562  \n",
      "3        256     0.411133  5.587205  \n",
      "4        256     0.434326  5.714337  \n"
     ]
    }
   ],
   "source": [
    "# test_tiletorch.py\n",
    "from pathlib import Path\n",
    "from src.tiletorch.tiling import summarize_slide, preview_tiling, extract_tiles\n",
    "from src.tiletorch.filters import make_filter\n",
    "import pandas as pd\n",
    "from PIL import Image\n",
    "\n",
    "# 🔧 Edit this to your own WSI path\n",
    "WSI_PATH = \"./examples/TCGA-HC-A6HY-01Z-00-DX1.9753A5EC-6068-4502-ACBB-4C6F1EA77AF9.svs\"\n",
    "OUT_DIR = Path(\"out_demo\")\n",
    "OUT_DIR.mkdir(exist_ok=True)\n",
    "\n",
    "# 1. Print slide metadata\n",
    "meta = summarize_slide(WSI_PATH)\n",
    "print(\"Slide metadata:\", meta)\n",
    "\n",
    "# 2. Build a filter (tissue + entropy thresholds)\n",
    "pred = make_filter(min_tissue=0.12, min_entropy=3.8, min_lapvar=0.0)\n",
    "\n",
    "# 3. Preview only (no tiles written, just overlay thumbnail)\n",
    "stats = preview_tiling(\n",
    "    slide_path=WSI_PATH,\n",
    "    out_path=OUT_DIR / \"preview.png\",\n",
    "    tile_size=256,\n",
    "    level=0,\n",
    "    overlap=0,\n",
    "    filter_fn=pred,\n",
    "    thumb_max=768,\n",
    ")\n",
    "print(\"Preview stats:\", stats)\n",
    "\n",
    "# Open the preview image\n",
    "# Image.open(OUT_DIR / \"preview.png\").show()\n",
    "\n",
    "# 4. Real tiling (saves tiles + CSV index)\n",
    "index = extract_tiles(\n",
    "    slide_path=WSI_PATH,\n",
    "    out_dir=OUT_DIR / \"tiles\",\n",
    "    tile_size=256,\n",
    "    level=0,\n",
    "    overlap=0,\n",
    "    filter_fn=pred,\n",
    "    write_index_csv=OUT_DIR / \"index.csv\",\n",
    ")\n",
    "print(f\"Extracted {len(index)} tiles\")\n",
    "\n",
    "# Load and inspect index CSV\n",
    "df = pd.read_csv(OUT_DIR / \"index.csv\")\n",
    "print(df.head())"
   ]
  },
  {
   "cell_type": "code",
   "execution_count": null,
   "id": "f7d26df0",
   "metadata": {},
   "outputs": [],
   "source": []
  },
  {
   "cell_type": "code",
   "execution_count": null,
   "id": "381eba04",
   "metadata": {},
   "outputs": [
    {
     "name": "stderr",
     "output_type": "stream",
     "text": [
      "Tiling TCGA-HC-A6HY-01Z-00-DX1.9753A5EC-6068-4502-ACBB-4C6F1EA77AF9 (L0): 100%|██████████| 5402/5402 [00:17<00:00, 309.11it/s]\n"
     ]
    }
   ],
   "source": [
    "from src.tiletorch.tiling import extract_tiles_to_sink\n",
    "from src.tiletorch.sinks import FileSink, WebDatasetSink\n",
    "from src.tiletorch.filters import make_filter\n",
    "WSI_PATH = \"./examples/TCGA-HC-A6HY-01Z-00-DX1.9753A5EC-6068-4502-ACBB-4C6F1EA77AF9.svs\"\n",
    "sink = FileSink(out_dir=\"out/tiles_jpeg\", fmt=\"jpeg\", codec_kwargs={\"quality\": 92, \"subsampling\": 0, \"optimize\": True})\n",
    "pred = make_filter(min_tissue=0.12, min_entropy=3.8)\n",
    "\n",
    "idx = extract_tiles_to_sink(\n",
    "    slide_path=WSI_PATH,\n",
    "    sink=sink,\n",
    "    tile_size=256, level=0, overlap=0,\n",
    "    filter_fn=pred,\n",
    ")"
   ]
  },
  {
   "cell_type": "code",
   "execution_count": 7,
   "id": "bc3e6ad3",
   "metadata": {},
   "outputs": [
    {
     "name": "stderr",
     "output_type": "stream",
     "text": [
      "Tiling TCGA-HC-A6HY-01Z-00-DX1.9753A5EC-6068-4502-ACBB-4C6F1EA77AF9 (L0): 100%|██████████| 1332/1332 [00:17<00:00, 75.68it/s]\n"
     ]
    }
   ],
   "source": [
    "from src.tiletorch.sinks import FileSink, WebDatasetSink\n",
    "sink = WebDatasetSink(\n",
    "    shard_pattern=\"out/shards/tiles-%06d.tar\",  # will write ...-000000.tar, -000001.tar, ...\n",
    "    fmt=\"jpeg\",\n",
    "    codec_kwargs={\"quality\": 92, \"subsampling\": 0, \"optimize\": True},\n",
    "    max_count=10000,             # ~10k tiles per shard\n",
    "    max_bytes=750*1024*1024,     # or ~750MB per shard (rolls when either limit hits)\n",
    ")\n",
    "\n",
    "pred = make_filter(min_tissue=0.12, min_entropy=3.8)\n",
    "idx = extract_tiles_to_sink(WSI_PATH, sink, tile_size=512, level=0, filter_fn=pred)"
   ]
  },
  {
   "cell_type": "code",
   "execution_count": 8,
   "id": "e980790f",
   "metadata": {},
   "outputs": [
    {
     "name": "stderr",
     "output_type": "stream",
     "text": [
      "Tiling TCGA-HC-A6HY-01Z-00-DX1.9753A5EC-6068-4502-ACBB-4C6F1EA77AF9 (L0): 100%|██████████| 1332/1332 [00:36<00:00, 36.58it/s]\n"
     ]
    }
   ],
   "source": [
    "sink = WebDatasetSink(\n",
    "    shard_pattern=\"out/shards_webp/tiles-%06d.tar\",\n",
    "    fmt=\"webp\",\n",
    "    codec_kwargs={\"quality\": 90, \"method\": 6},\n",
    "    max_count=15000,  # WebP usually smaller -> fit more per shard\n",
    ")\n",
    "\n",
    "pred = make_filter(min_tissue=0.12, min_entropy=3.8)\n",
    "idx = extract_tiles_to_sink(WSI_PATH, sink, tile_size=512, level=0, filter_fn=pred)"
   ]
  }
 ],
 "metadata": {
  "kernelspec": {
   "display_name": "ml",
   "language": "python",
   "name": "python3"
  },
  "language_info": {
   "codemirror_mode": {
    "name": "ipython",
    "version": 3
   },
   "file_extension": ".py",
   "mimetype": "text/x-python",
   "name": "python",
   "nbconvert_exporter": "python",
   "pygments_lexer": "ipython3",
   "version": "3.12.3"
  }
 },
 "nbformat": 4,
 "nbformat_minor": 5
}
