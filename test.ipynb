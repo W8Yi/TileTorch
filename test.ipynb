{
 "cells": [
  {
   "cell_type": "code",
   "execution_count": null,
   "id": "99cbaa2b",
   "metadata": {},
   "outputs": [],
   "source": [
    "# test_tiletorch.py\n",
    "from pathlib import Path\n",
    "from src.tiletorch.tiling import summarize_slide, preview_tiling, extract_tiles\n",
    "from src.tiletorch.filters import make_filter\n",
    "import pandas as pd\n",
    "from PIL import Image\n",
    "\n",
    "# 🔧 Edit this to your own WSI path\n",
    "WSI_PATH = \"./examples/TCGA-HC-A6HY-01Z-00-DX1.9753A5EC-6068-4502-ACBB-4C6F1EA77AF9.svs\"\n",
    "OUT_DIR = Path(\"out_demo\")\n",
    "OUT_DIR.mkdir(exist_ok=True)\n",
    "\n",
    "# 1. Print slide metadata\n",
    "meta = summarize_slide(WSI_PATH)\n",
    "print(\"Slide metadata:\", meta)\n",
    "\n",
    "# 2. Build a filter (tissue + entropy thresholds)\n",
    "pred = make_filter(min_tissue=0.12, min_entropy=3.8, min_lapvar=0.0)\n",
    "\n",
    "# 3. Preview only (no tiles written, just overlay thumbnail)\n",
    "stats = preview_tiling(\n",
    "    slide_path=WSI_PATH,\n",
    "    out_path=OUT_DIR / \"preview.png\",\n",
    "    tile_size=256,\n",
    "    level=0,\n",
    "    overlap=0,\n",
    "    filter_fn=pred,\n",
    ")\n",
    "print(\"Preview stats:\", stats)\n",
    "\n",
    "# Open the preview image\n",
    "Image.open(OUT_DIR / \"preview.png\").show()\n",
    "\n",
    "# 4. Real tiling (saves tiles + CSV index)\n",
    "index = extract_tiles(\n",
    "    slide_path=WSI_PATH,\n",
    "    out_dir=OUT_DIR / \"tiles\",\n",
    "    tile_size=256,\n",
    "    level=0,\n",
    "    overlap=0,\n",
    "    filter_fn=pred,\n",
    "    write_index_csv=OUT_DIR / \"index.csv\",\n",
    ")\n",
    "print(f\"Extracted {len(index)} tiles\")\n",
    "\n",
    "# Load and inspect index CSV\n",
    "df = pd.read_csv(OUT_DIR / \"index.csv\")\n",
    "print(df.head())"
   ]
  }
 ],
 "metadata": {
  "kernelspec": {
   "display_name": "ml",
   "language": "python",
   "name": "python3"
  },
  "language_info": {
   "codemirror_mode": {
    "name": "ipython",
    "version": 3
   },
   "file_extension": ".py",
   "mimetype": "text/x-python",
   "name": "python",
   "nbconvert_exporter": "python",
   "pygments_lexer": "ipython3",
   "version": "3.12.3"
  }
 },
 "nbformat": 4,
 "nbformat_minor": 5
}
